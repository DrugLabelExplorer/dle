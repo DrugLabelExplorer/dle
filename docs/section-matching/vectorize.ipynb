{
 "cells": [
  {
   "cell_type": "code",
   "execution_count": null,
   "id": "33e3e5a1-7de6-4744-aa56-560096622001",
   "metadata": {},
   "outputs": [],
   "source": [
    "import json, os\n",
    "from datetime import datetime\n",
    "from datetime import date\n",
    "\n",
    "from tqdm import tqdm\n",
    "import numpy as np\n",
    "import pickle\n",
    "from matplotlib import pyplot as plt\n",
    "\n",
    "import nest_asyncio\n",
    "import asyncio\n",
    "nest_asyncio.apply()\n",
    "\n",
    "from sentence_transformers import SentenceTransformer\n",
    "from transformers import pipeline\n",
    "import psutil\n",
    "\n",
    "from data.models import DrugLabel, ProductSection\n",
    "from data.util import compute_section_embedding"
   ]
  },
  {
   "cell_type": "code",
   "execution_count": null,
   "id": "bae3b79f",
   "metadata": {},
   "outputs": [],
   "source": [
    "# Some M1 ARM architecture issues with transformers / tokenizers\n",
    "# Ended up installing django-extensions and running Jupyter with shell-plus from the venv\n",
    "# Tried to override Django settings as Jupyter was using the Docker networking, so `postgres` wasn't resolving, but this didn't work\n",
    "# Added /etc/hosts mapping `127.0.0.1 postgres` so this would work on my local, see https://github.com/instructure/lti_tool_provider_example/issues/4\n",
    "# See: https://gist.github.com/EtsuNDmA/dd8949061783bf593706559374c8f635\n",
    "# See: https://stackoverflow.com/questions/61926359/django-synchronousonlyoperation-you-cannot-call-this-from-an-async-context-u\n",
    "\n",
    "# os.environ[\"DJANGO_SETTINGS_MODULE\"] = \"dle.settings\"\n",
    "# os.environ.get(\"DJANGO_SETTINGS_MODULE\")\n",
    "# import os, sys\n",
    "# import django\n",
    "# PROJECTPATH = '/Users/colecrawford/GitHub/dle'\n",
    "# sys.path.insert(0, PROJECTPATH)\n",
    "# os.environ.setdefault(\"DJANGO_SETTINGS_MODULE\", \"settings\")\n",
    "# os.environ[\"DJANGO_ALLOW_ASYNC_UNSAFE\"] = \"true\"  # https://docs.djangoproject.com/en/4.1/topics/async/#async-safety\n",
    "# os.chdir(PROJECTPATH)\n",
    "# django.setup()"
   ]
  },
  {
   "cell_type": "code",
   "execution_count": null,
   "id": "e6dd634a-7b27-4ac1-9875-fafe020e9a54",
   "metadata": {},
   "outputs": [],
   "source": [
    "os.environ[\"DJANGO_ALLOW_ASYNC_UNSAFE\"] = \"true\""
   ]
  },
  {
   "cell_type": "code",
   "execution_count": null,
   "id": "11d34693",
   "metadata": {},
   "outputs": [],
   "source": [
    "from api.apps import ApiConfig\n",
    "# pubmedbert_model = SentenceTransformer('pritamdeka/S-PubMedBert-MS-MARCO')\n",
    "pubmedbert_model = ApiConfig.pubmedbert_model"
   ]
  },
  {
   "cell_type": "code",
   "execution_count": null,
   "id": "26bacd2c",
   "metadata": {},
   "outputs": [],
   "source": [
    "sections = ProductSection.objects.filter(label_product__drug_label__source=\"TGA\").all()\n",
    "print(sections.count())\n",
    "subset = sections[0:500]\n",
    "print(subset.count())"
   ]
  },
  {
   "cell_type": "code",
   "execution_count": null,
   "id": "64545206",
   "metadata": {},
   "outputs": [],
   "source": [
    "start = datetime.now()\n",
    "\n",
    "for section in tqdm(subset):\n",
    "    section.bert_vector = json.dumps(compute_section_embedding(section.section_text, model=pubmedbert_model, normalize=True))\n",
    "    section.save()\n",
    "    \n",
    "end = datetime.now()\n",
    "elapsed = end - start\n",
    "print(f\" ------------- vectorized {subset.count()} sections in { int(elapsed.total_seconds()) } seconds\")\n",
    "print(f\"{int(elapsed.total_seconds()) / subset.count() } seconds per section\")"
   ]
  },
  {
   "cell_type": "code",
   "execution_count": null,
   "id": "1261d728",
   "metadata": {},
   "outputs": [],
   "source": [
    "sections_without_vectors = ProductSection.objects.filter(\n",
    "    label_product__drug_label__source=\"TGA\"\n",
    ").filter(bert_vector__isnull=True)"
   ]
  },
  {
   "cell_type": "code",
   "execution_count": null,
   "id": "d7f65c70",
   "metadata": {},
   "outputs": [],
   "source": [
    "for section in tqdm(sections_without_vectors):\n",
    "    section.bert_vector = json.dumps(compute_section_embedding(section.section_text, model=pubmedbert_model, normalize=True))\n",
    "    section.save()"
   ]
  },
  {
   "cell_type": "code",
   "execution_count": null,
   "id": "f5e3caf8",
   "metadata": {},
   "outputs": [],
   "source": [
    "from elasticsearch import logger as es_logger\n",
    "import logging\n",
    "es_logger.setLevel(logging.ERROR)"
   ]
  },
  {
   "cell_type": "code",
   "execution_count": null,
   "id": "39dac005",
   "metadata": {},
   "outputs": [],
   "source": [
    "# Vectorize EMA labels\n",
    "# Get all the DrugLabels first\n",
    "ema_vectors = {}\n",
    "ema_labels = DrugLabel.objects.filter(source=\"EMA\")\n",
    "print(f\"{ema_labels.count()} EMA labels\")\n",
    "\n",
    "# prep the dict of dicts of dicts\n",
    "for dl in ema_labels:\n",
    "    if dl.source_product_number not in ema_labels:\n",
    "        ema_vectors[dl.source_product_number] = {}\n",
    "    ema_vectors[dl.source_product_number][dl.version_date.strftime(\"%Y/%m/%d\")] = {}\n",
    "                \n",
    "\n",
    "ema_sections_without_vectors = ProductSection.objects.filter(\n",
    "    label_product__drug_label__source=\"EMA\"\n",
    ").filter(bert_vector__isnull=True)\n",
    "\n",
    "for section in tqdm(ema_sections_without_vectors):\n",
    "    vec = compute_section_embedding(section.section_text, model=pubmedbert_model, normalize=True)\n",
    "    # get the section's source_product_number and date\n",
    "    spn = section.label_product.drug_label.source_product_number\n",
    "    vd = section.label_product.drug_label.version_date\n",
    "    ema_vectors[spn][vd] = json.dumps(vec)"
   ]
  },
  {
   "cell_type": "code",
   "execution_count": null,
   "id": "48e29e11",
   "metadata": {},
   "outputs": [],
   "source": [
    "# without Asyncio: 6282 sections in 10:55, or 9.58it/s"
   ]
  },
  {
   "cell_type": "code",
   "execution_count": null,
   "id": "0c278e8e",
   "metadata": {},
   "outputs": [],
   "source": [
    "# Vectorize EMA labels - with Asyncio\n",
    "ema_vectors = {}\n",
    "ema_labels = DrugLabel.objects.filter(source=\"EMA\")\n",
    "print(f\"{ema_labels.count()} EMA labels\")\n",
    "\n",
    "# prep the dict of dicts of dicts\n",
    "for dl in ema_labels:\n",
    "    if dl.source_product_number not in ema_labels:\n",
    "        ema_vectors[dl.source_product_number] = {}\n",
    "    ema_vectors[dl.source_product_number][dl.version_date.strftime(\"%Y/%m/%d\")] = {}\n",
    "                \n",
    "\n",
    "ema_sections_without_vectors = ProductSection.objects.filter(\n",
    "    label_product__drug_label__source=\"EMA\"\n",
    ").filter(bert_vector__isnull=True)\n",
    "\n",
    "def background(f):\n",
    "    def wrapped(*args, **kwargs):\n",
    "        return asyncio.get_event_loop().run_in_executor(None, f, *args, **kwargs)\n",
    "\n",
    "    return wrapped\n",
    "\n",
    "@background\n",
    "def compute_section_vector_wrapper(section):\n",
    "    vec = compute_section_embedding(text=section.section_text, model=pubmedbert_model, normalize=True)\n",
    "    spn = section.label_product.drug_label.source_product_number\n",
    "    vd = section.label_product.drug_label.version_date.strftime(\"%Y/%m/%d\")\n",
    "    ema_vectors[spn][vd][section.section_name] = json.dumps(vec)\n",
    "\n",
    "start = datetime.now()\n",
    "loop = asyncio.get_event_loop()\n",
    "looper = asyncio.gather(*[compute_section_vector_wrapper(s) for s in ema_sections_without_vectors])\n",
    "results = loop.run_until_complete(looper)\n",
    "end = datetime.now()\n",
    "elapsed = end - start\n",
    "\n",
    "print(f\"finished computing ------------- { int(elapsed.total_seconds()) } seconds\")\n",
    "print(f\"{ema_labels.count()} drug labels processed: { int(elapsed.total_seconds()) / ema_labels.count() } seconds per drug\")\n",
    "print(f\"{ema_sections_without_vectors.count()} sections processed: { int(elapsed.total_seconds()) / ema_sections_without_vectors.count() } seconds per section\")"
   ]
  },
  {
   "cell_type": "code",
   "execution_count": null,
   "id": "978b48b4",
   "metadata": {},
   "outputs": [],
   "source": [
    "# Serializing json\n",
    "json_object = json.dumps(ema_vectors)\n",
    " \n",
    "# Writing to ema_vectors.json\n",
    "with open(\"output/ema_vectors.json\", \"w\") as outfile:\n",
    "    outfile.write(json_object)"
   ]
  },
  {
   "cell_type": "code",
   "execution_count": null,
   "id": "db2056b6",
   "metadata": {},
   "outputs": [],
   "source": [
    "vec_secs_saved = 0\n",
    "for label in ema_vectors.keys():\n",
    "    for date in ema_vectors[label].keys():\n",
    "        vec_secs_saved += len(ema_vectors[label][date].keys())"
   ]
  },
  {
   "cell_type": "code",
   "execution_count": null,
   "id": "8f61d829",
   "metadata": {},
   "outputs": [],
   "source": [
    "tga_sections[0]"
   ]
  },
  {
   "cell_type": "code",
   "execution_count": null,
   "id": "360dc979",
   "metadata": {},
   "outputs": [],
   "source": [
    "# Vectorize TGA labels - with Asyncio\n",
    "tga_vectors = {}\n",
    "tga_labels = DrugLabel.objects.filter(source=\"TGA\")\n",
    "print(f\"{tga_labels.count()} TGA labels\")\n",
    "\n",
    "# prep the dict of dicts of dicts\n",
    "for dl in tga_labels:\n",
    "    spn = dl.source_product_number\n",
    "    vd = dl.version_date.strftime(\"%Y/%m/%d\")\n",
    "    if spn not in tga_labels:\n",
    "        tga_vectors[spn] = {}\n",
    "    tga_vectors[spn][vd] = {}\n",
    "\n",
    "print(\"created tga_vectors dict\")\n",
    "\n",
    "# tga_sections_without_vectors = ProductSection.objects.filter(\n",
    "#     label_product__drug_label__source=\"TGA\"\n",
    "# ).filter(bert_vector__isnull=True)\n",
    "\n",
    "tga_sections = ProductSection.objects.filter(\n",
    "    label_product__drug_label__source=\"TGA\"\n",
    ")\n",
    "\n",
    "def background(f):\n",
    "    def wrapped(*args, **kwargs):\n",
    "        return asyncio.get_event_loop().run_in_executor(None, f, *args, **kwargs)\n",
    "\n",
    "    return wrapped\n",
    "\n",
    "@background\n",
    "def compute_section_vector_wrapper(section):\n",
    "    vec = compute_section_embedding(text=section.section_text, model=pubmedbert_model, normalize=True)\n",
    "    section.bert_vector = json.dumps(vec)\n",
    "    # if this works we're golden\n",
    "    section.save()\n",
    "    # otherwise do this too\n",
    "    spn = section.label_product.drug_label.source_product_number\n",
    "    vd = section.label_product.drug_label.version_date.strftime(\"%Y/%m/%d\")\n",
    "    section_name = section.section_name\n",
    "    try:\n",
    "        tga_vectors[spn][vd][section_name] = json.dumps(vec)\n",
    "    except KeyError:\n",
    "        print(f\"KeyError: tga_vectors[{spn}][{vd}][{section_name}]\")\n",
    "        print(tga_vectors[spn])\n",
    "        print(tga_vectors[spn][vd])\n",
    "\n",
    "print(\"Starting Asyncio vectorization\")\n",
    "start = datetime.now()\n",
    "loop = asyncio.get_event_loop()\n",
    "# looper = asyncio.gather(*[compute_section_vector_wrapper(s) for s in tga_sections_without_vectors])\n",
    "looper = asyncio.gather(*[compute_section_vector_wrapper(s) for s in tga_sections])\n",
    "results = loop.run_until_complete(looper)\n",
    "end = datetime.now()\n",
    "elapsed = end - start\n",
    "\n",
    "print(f\"finished computing ------------- { int(elapsed.total_seconds()) } seconds\")\n",
    "print(f\"{tga_labels.count()} drug labels processed: { int(elapsed.total_seconds()) / tga_labels.count() } seconds per drug\")\n",
    "print(f\"{tga_sections.count()} sections processed: { int(elapsed.total_seconds()) / tga_sections.count() } seconds per section\")\n",
    "\n",
    "# Serializing json\n",
    "tga_json = json.dumps(tga_vectors)\n",
    " \n",
    "# Writing out to file\n",
    "with open(\"output/tga_vectors.json\", \"w\") as outfile:\n",
    "    outfile.write(tga_json)\n",
    "    \n",
    "section_vectors_saved = 0\n",
    "for label in tga_vectors.keys():\n",
    "    for date in tga_vectors[label].keys():\n",
    "        vec_secs_saved += len(tga_vectors[label][date].keys())"
   ]
  },
  {
   "cell_type": "code",
   "execution_count": null,
   "id": "dc7025d7",
   "metadata": {},
   "outputs": [],
   "source": [
    "# Serializing json\n",
    "tga_json = json.dumps(tga_vectors)\n",
    " \n",
    "# Writing out to file\n",
    "with open(\"data/output/tga_vectors.json\", \"w\") as outfile:\n",
    "    outfile.write(tga_json)\n",
    "    \n",
    "section_vectors_saved = 0\n",
    "for label in tga_vectors.keys():\n",
    "    for date in tga_vectors[label].keys():\n",
    "        section_vectors_saved += len(tga_vectors[label][date].keys())\n",
    "print(section_vectors_saved)"
   ]
  },
  {
   "cell_type": "code",
   "execution_count": null,
   "id": "40b53184",
   "metadata": {},
   "outputs": [],
   "source": [
    "# Trying to figure out whether there are duplicate source_product_numbers, seems like some but not sure if that's from multiple ingests?\n",
    "all_tga = DrugLabel.objects.filter(source=\"TGA\")\n",
    "print(all_tga.count())\n",
    "from collections import Counter\n",
    "source_product_numbers = []\n",
    "for dl in all_tga:\n",
    "    source_product_numbers.append(dl.source_product_number)\n",
    "counts = Counter(source_product_numbers)"
   ]
  },
  {
   "cell_type": "code",
   "execution_count": null,
   "id": "52f5afb9",
   "metadata": {},
   "outputs": [],
   "source": [
    "counts"
   ]
  },
  {
   "cell_type": "code",
   "execution_count": null,
   "id": "26fb9fd3",
   "metadata": {},
   "outputs": [],
   "source": [
    "some_dupes = ['CP-2023-PI-01419-1', 'CP-2010-PI-03832-3', 'CP-2010-PI-02591-3']\n",
    "for dupe_label in some_dupes:\n",
    "    labels = DrugLabel.objects.filter(source_product_number=dupe_label)\n",
    "    for dupe in labels:\n",
    "        print(dupe.id)\n",
    "        print(dupe)\n",
    "    print(\"----\")"
   ]
  },
  {
   "cell_type": "code",
   "execution_count": null,
   "id": "3c55df4e",
   "metadata": {},
   "outputs": [],
   "source": [
    "ingest_327 = DrugLabel.objects.filter(source=\"TGA\", version_date__lte=date(2023, 3, 27))\n",
    "ingest_327.delete()"
   ]
  },
  {
   "cell_type": "code",
   "execution_count": null,
   "id": "6844c92e",
   "metadata": {},
   "outputs": [],
   "source": [
    "vals = counts.values()\n",
    "Counter(vals)"
   ]
  },
  {
   "cell_type": "code",
   "execution_count": null,
   "id": "e02d23d0",
   "metadata": {},
   "outputs": [],
   "source": [
    "# Trying to figure out whether there are duplicate source_product_numbers, seems like some but not sure if that's from multiple ingests?\n",
    "all_fda = DrugLabel.objects.filter(source=\"FDA\")\n",
    "print(all_fda.count())\n",
    "from collections import Counter\n",
    "source_product_numbers_fda = []\n",
    "for dl in all_fda:\n",
    "    source_product_numbers_fda.append(dl.source_product_number)\n",
    "fda_counts = Counter(source_product_numbers_fda)\n",
    "fda_counts_of_counts = Counter(fda_counts.values())"
   ]
  },
  {
   "cell_type": "code",
   "execution_count": null,
   "id": "a2ca5017",
   "metadata": {},
   "outputs": [],
   "source": [
    "sorted(fda_counts_of_counts.items(), key=lambda i: i[1])"
   ]
  },
  {
   "cell_type": "code",
   "execution_count": null,
   "id": "ebbe7cd5",
   "metadata": {},
   "outputs": [],
   "source": [
    "# big duplicate is '0003-0293'\n",
    "fda_dupe_labels = DrugLabel.objects.filter(source_product_number='0003-0293')\n",
    "for dupe in fda_dupe_labels:\n",
    "        print(dupe.version_date)\n",
    "        print(f\"----\")"
   ]
  },
  {
   "cell_type": "code",
   "execution_count": null,
   "id": "cf741d68",
   "metadata": {},
   "outputs": [],
   "source": [
    "examine = []\n",
    "for key in fda_counts.keys():\n",
    "    if fda_counts[key] > 1:\n",
    "        # ensure all the version_dates are unique\n",
    "        versions = DrugLabel.objects.filter(source_product_number=key)\n",
    "        version_dates = []\n",
    "        for v in versions:\n",
    "            version_dates.append(v.version_date)\n",
    "        c = Counter(version_dates)\n",
    "        if c.most_common(1)[0][1] > 1:\n",
    "            examine.append(key)"
   ]
  },
  {
   "cell_type": "code",
   "execution_count": null,
   "id": "6a2045c0",
   "metadata": {},
   "outputs": [],
   "source": [
    "# Trying to figure out whether there are duplicate source_product_numbers, seems like some but not sure if that's from multiple ingests?\n",
    "all_ema = DrugLabel.objects.filter(source=\"EMA\")\n",
    "print(all_ema.count())\n",
    "source_product_numbers_ema = []\n",
    "for dl in all_ema:\n",
    "    source_product_numbers_ema.append(dl.source_product_number)\n",
    "ema_counts = Counter(source_product_numbers_ema)\n",
    "\n",
    "examine_ema = []\n",
    "for key in ema_counts.keys():\n",
    "    if ema_counts[key] > 1:\n",
    "        # ensure all the version_dates are unique\n",
    "        versions = DrugLabel.objects.filter(source_product_number=key)\n",
    "        version_dates = []\n",
    "        for v in versions:\n",
    "            version_dates.append(v.version_date)\n",
    "        c = Counter(version_dates)\n",
    "        if c.most_common(1)[0][1] > 1:\n",
    "            examine_ema.append(key)\n",
    "print(examine_ema)"
   ]
  },
  {
   "cell_type": "code",
   "execution_count": null,
   "id": "3f5b6c64",
   "metadata": {},
   "outputs": [],
   "source": [
    "version_dates = []\n",
    "for v in versions:\n",
    "    version_dates.append(v.version_date)\n",
    "c = Counter(version_dates)\n",
    "c.most_common(1)[0][1]"
   ]
  },
  {
   "cell_type": "code",
   "execution_count": null,
   "id": "e9157f10",
   "metadata": {},
   "outputs": [],
   "source": [
    "from elasticsearch_django.settings import get_client\n",
    "es = get_client()"
   ]
  },
  {
   "cell_type": "code",
   "execution_count": null,
   "id": "d8bbd9a6",
   "metadata": {},
   "outputs": [],
   "source": []
  },
  {
   "cell_type": "code",
   "execution_count": null,
   "id": "fc3f8edb",
   "metadata": {},
   "outputs": [],
   "source": [
    "vectorized = ProductSection.objects.filter(label_product__drug_label__source=\"TGA\").filter(bert_vector__isnull=False)\n",
    "for section in tqdm(vectorized):\n",
    "    es.index(index=\"productsection\", document=section.as_search_document(), id=section.id)"
   ]
  },
  {
   "cell_type": "code",
   "execution_count": null,
   "id": "d67798fc",
   "metadata": {},
   "outputs": [],
   "source": [
    "list(model.encode(\"brain bleeding\"))"
   ]
  },
  {
   "cell_type": "code",
   "execution_count": null,
   "id": "be7c631c-9cad-4bf1-86b1-0e0b940cba06",
   "metadata": {},
   "outputs": [],
   "source": [
    "data_file_fda = 'data/output/human-rx-openfda-drug.json'\n",
    "RUN_DIAGNOSTIC = False"
   ]
  },
  {
   "cell_type": "code",
   "execution_count": null,
   "id": "c307eeab-33a4-4429-8815-9b37093f4689",
   "metadata": {},
   "outputs": [],
   "source": [
    "with open(data_file_fda) as f:\n",
    "    data_fda = json.load(f)"
   ]
  },
  {
   "cell_type": "code",
   "execution_count": null,
   "id": "69a6a235-6ef3-4a13-967e-226fc278f16f",
   "metadata": {},
   "outputs": [],
   "source": [
    "model = SentenceTransformer('pritamdeka/S-PubMedBert-MS-MARCO')"
   ]
  },
  {
   "cell_type": "code",
   "execution_count": null,
   "id": "db8c3c86-54a9-4270-90c7-2622c3b05c92",
   "metadata": {},
   "outputs": [],
   "source": [
    "keys = list(data_fda.keys())\n",
    "print(len(keys))\n",
    "k = keys[0]\n",
    "print(data_fda[k].keys())\n",
    "print(data_fda[k]['metadata'].keys())\n",
    "\n",
    "sample_keys = keys[0:500]"
   ]
  },
  {
   "cell_type": "code",
   "execution_count": null,
   "id": "edffe73d-ef22-4706-948e-e7e9a9bd5aa5",
   "metadata": {},
   "outputs": [],
   "source": [
    "keys_fda, drugs_fda = zip(*data_fda.items())\n",
    "sections_fda = [d['Label Text'].keys() for d in drugs_fda]\n",
    "sections_fda = sorted(set([s for slist in sections_fda for s in slist]))"
   ]
  },
  {
   "cell_type": "code",
   "execution_count": null,
   "id": "ddb83646-5704-446f-b0bc-816379a3df4b",
   "metadata": {
    "scrolled": true,
    "tags": []
   },
   "outputs": [],
   "source": [
    "sections_fda"
   ]
  },
  {
   "cell_type": "code",
   "execution_count": null,
   "id": "370914a2-ce34-493d-bb59-4f3381c7d7c7",
   "metadata": {},
   "outputs": [],
   "source": [
    "def compute_section_embedding(text, word_count=256):\n",
    "    n_segments = 1 + len(text.split()) // word_count\n",
    "    print(n_segments)\n",
    "    vecs = np.zeros((n_segments,768))\n",
    "    for i in range(n_segments):\n",
    "        segment = text.split()[ (i)*word_count : (i+1)*word_count ]\n",
    "        print(segment)\n",
    "        vecs[i,:] = model.encode( ' '.join(segment) )\n",
    "    return np.mean(vecs, axis=0)"
   ]
  },
  {
   "cell_type": "code",
   "execution_count": null,
   "id": "d842ea72-2ba1-4a24-b8b1-3fb56d6238f9",
   "metadata": {
    "scrolled": true,
    "tags": []
   },
   "outputs": [],
   "source": [
    "!pip install ray"
   ]
  },
  {
   "cell_type": "code",
   "execution_count": null,
   "id": "3373f3c6-5edc-4539-b8f0-9ec82316ccab",
   "metadata": {},
   "outputs": [],
   "source": [
    "num_cpus = psutil.cpu_count(logical=True)\n",
    "print('Number of available CPUs:', num_cpus)\n",
    "\n",
    "ray.init(num_cpus=num_cpus, ignore_reinit_error=True)\n",
    "\n",
    "pipe = pipeline(task = 'feature-extraction', model='pritamdeka/S-PubMedBert-MS-MARCO', batch_size=1, device=-1)\n",
    "\n",
    "pipe_id = ray.put(pipe)\n",
    "\n",
    "@ray.remote\n",
    "def vectorize(pipeline, "
   ]
  },
  {
   "cell_type": "code",
   "execution_count": null,
   "id": "17116624-3e9c-4cf2-a9f6-4f32505b2827",
   "metadata": {
    "scrolled": true,
    "tags": []
   },
   "outputs": [],
   "source": [
    "def background(f):\n",
    "    def wrapped(*args, **kwargs):\n",
    "        return asyncio.get_event_loop().run_in_executor(None, f, *args, **kwargs)\n",
    "\n",
    "    return wrapped\n",
    "\n",
    "@background\n",
    "def compute_vector_wrapper(key):\n",
    "    drug = data_fda[key]\n",
    "    sections = drug['Label Text']\n",
    "    print(key)\n",
    "    vectors[key] = {}\n",
    "    for k,v in sections.items():\n",
    "        # { \"4fdf3b7e-f6ff-4d78-a928-c9d47c5bc9d9\" = { \"spl_product_data_elements\": <VECTOR> } }\n",
    "        if len(v) > 1:\n",
    "            # print(f\"{key} - {k} - {len(v)} subsections\")\n",
    "            # print(\" \".join(v))\n",
    "            vectors[key][k] = compute_section_embedding(\" \".join(v))\n",
    "        else:\n",
    "            vectors[key][k] = compute_section_embedding(v[0])\n",
    "\n",
    "vectors = {}\n",
    "start = datetime.now()\n",
    "loop = asyncio.get_event_loop()\n",
    "looper = asyncio.gather(*[compute_vector_wrapper(key) for key in sample_keys])\n",
    "results = loop.run_until_complete(looper)\n",
    "end = datetime.now()\n",
    "elapsed = end - start\n",
    "\n",
    "total_sections = 0\n",
    "for key in sample_keys:\n",
    "    total_sections += len(data_fda[key]['Label Text'])\n",
    "print(f\"fin ------------- { int(elapsed.total_seconds()) } seconds\")\n",
    "print(f\"{len(sample_keys)} drug labels processed: { int(elapsed.total_seconds()) / len(sample_keys) } seconds per drug\")\n",
    "print(f\"{total_sections} sections processed: { int(elapsed.total_seconds()) / total_sections } seconds per section\")"
   ]
  },
  {
   "cell_type": "code",
   "execution_count": null,
   "id": "448c0c30-4c79-464e-b077-09d32c7cad7e",
   "metadata": {},
   "outputs": [],
   "source": [
    "# AYSNCIO Tests\n",
    "# 100 drug labels processed: 2.85 seconds per drug\n",
    "# 2223 sections processed: 0.1282051282051282 seconds per section\n",
    "\n",
    "# 500 drug labels processed: 3.202 seconds per drug\n",
    "# 11593 sections processed: 0.13810057793496075 seconds per section"
   ]
  },
  {
   "cell_type": "code",
   "execution_count": null,
   "id": "b34932eb-81ed-4667-87cc-6d17431bc4ca",
   "metadata": {
    "scrolled": true,
    "tags": []
   },
   "outputs": [],
   "source": [
    "vectors"
   ]
  },
  {
   "cell_type": "code",
   "execution_count": null,
   "id": "d6f93941-6d99-4f7f-b368-6a5c1cbb3548",
   "metadata": {
    "scrolled": true,
    "tags": []
   },
   "outputs": [],
   "source": [
    "vectors = {}\n",
    "section_count = 0\n",
    "start = datetime.now()\n",
    "for key in tqdm.tqdm(sample_keys):\n",
    "    drug = data_fda[key]\n",
    "    sections = drug['Label Text']\n",
    "    # print(key)\n",
    "    vectors[key] = {}\n",
    "    for k,v in sections.items():\n",
    "        # { \"4fdf3b7e-f6ff-4d78-a928-c9d47c5bc9d9\" = { \"spl_product_data_elements\": <VECTOR> } }\n",
    "        if len(v) > 1:\n",
    "            # print(f\"{key} - {k} - {len(v)} subsections\")\n",
    "            # print(\" \".join(v))\n",
    "            vectors[key][k] = compute_section_embedding(\" \".join(v))\n",
    "        else:\n",
    "            vectors[key][k] = compute_section_embedding(v[0])\n",
    "            section_count += 1\n",
    "            \n",
    "end = datetime.now()\n",
    "elapsed = end - start\n",
    "\n",
    "print(f\"{len(sample_keys)} drug labels processed: { int(elapsed.total_seconds()) / len(sample_keys) } seconds per drug\")\n",
    "print(f\"{section_count} sections processed: { int(elapsed.total_seconds()) / section_count } seconds per section\")"
   ]
  },
  {
   "cell_type": "code",
   "execution_count": null,
   "id": "25539945-1ebe-42f2-8fc3-fa729330ca4c",
   "metadata": {},
   "outputs": [],
   "source": [
    "from multiprocessing import Pool\n",
    "import os\n",
    "# os.environ[\"TOKENIZERS_PARALLELISM\"] = \"false\"\n",
    "\n",
    "def compute_vector_wrapper(key):\n",
    "    drug = data_fda[key]\n",
    "    sections = drug['Label Text']\n",
    "    vectors[key] = {}\n",
    "    for k,v in sections.items():\n",
    "        # { \"4fdf3b7e-f6ff-4d78-a928-c9d47c5bc9d9\" = { \"spl_product_data_elements\": <VECTOR> } }\n",
    "        if len(v) > 1:\n",
    "            # print(f\"{key} - {k} - {len(v)} subsections\")\n",
    "            # print(\" \".join(v))\n",
    "            vectors[key][k] = compute_section_embedding(\" \".join(v))\n",
    "        else:\n",
    "            vectors[key][k] = compute_section_embedding(v[0])\n",
    "    print(f\"{key} completed\", flush=True)\n",
    "\n",
    "with Pool(4) as pool:\n",
    "     tqdm(pool.imap(compute_vector_wrapper, sample_keys))"
   ]
  },
  {
   "cell_type": "code",
   "execution_count": null,
   "id": "b1f29c2b-05de-4773-903e-8556cde44795",
   "metadata": {},
   "outputs": [],
   "source": [
    "print(section_count)"
   ]
  },
  {
   "cell_type": "code",
   "execution_count": null,
   "id": "759bc1da-879b-4872-9f98-a9643b4cd11c",
   "metadata": {},
   "outputs": [],
   "source": [
    "len(vectors['4fdf3b7e-f6ff-4d78-a928-c9d47c5bc9d9']['spl_product_data_elements'])"
   ]
  },
  {
   "cell_type": "code",
   "execution_count": null,
   "id": "2c312ecf-e8d9-47b3-8467-17bd8d3c7d16",
   "metadata": {
    "scrolled": true,
    "tags": []
   },
   "outputs": [],
   "source": [
    "test_vector = vectors['4fdf3b7e-f6ff-4d78-a928-c9d47c5bc9d9']['spl_product_data_elements']\n",
    "test_vector_list = test_vector.tolist()\n",
    "json_vector = json.dumps(test_vector_list)\n",
    "json.loads(json_vector)"
   ]
  },
  {
   "cell_type": "code",
   "execution_count": null,
   "id": "48bf6211-7b60-4191-8a32-be8de3552afa",
   "metadata": {},
   "outputs": [],
   "source": [
    "print(f\"num subsections: {len(data_fda['ca8bfc0a-d43b-1072-e053-2995a90a66f0']['Label Text']['warnings'])}\")\n",
    "data_fda['ca8bfc0a-d43b-1072-e053-2995a90a66f0']['Label Text']['warnings']"
   ]
  },
  {
   "cell_type": "code",
   "execution_count": null,
   "id": "089d5d7c-a2aa-4701-93ad-a0f924e50e1f",
   "metadata": {},
   "outputs": [],
   "source": [
    "data_fda['ca8bfc0a-d43b-1072-e053-2995a90a66f0']"
   ]
  },
  {
   "cell_type": "code",
   "execution_count": null,
   "id": "1f7fc118-c9ee-4965-a901-3f7ba745d4c3",
   "metadata": {},
   "outputs": [],
   "source": [
    "type(vectors['4fdf3b7e-f6ff-4d78-a928-c9d47c5bc9d9']['spl_product_data_elements'])"
   ]
  },
  {
   "cell_type": "code",
   "execution_count": null,
   "id": "9ad1bcd2-1b2b-427d-acfe-674b60a418db",
   "metadata": {
    "scrolled": true,
    "tags": []
   },
   "outputs": [],
   "source": [
    "!pip list"
   ]
  },
  {
   "cell_type": "code",
   "execution_count": null,
   "id": "0418d8f0-92bf-4f58-9c6d-dd49c7565dd1",
   "metadata": {},
   "outputs": [],
   "source": []
  }
 ],
 "metadata": {
  "kernelspec": {
   "display_name": "Django Shell-Plus",
   "language": "python",
   "name": "django_extensions"
  },
  "language_info": {
   "codemirror_mode": {
    "name": "ipython",
    "version": 3
   },
   "file_extension": ".py",
   "mimetype": "text/x-python",
   "name": "python",
   "nbconvert_exporter": "python",
   "pygments_lexer": "ipython3",
   "version": "3.10.0"
  }
 },
 "nbformat": 4,
 "nbformat_minor": 5
}
